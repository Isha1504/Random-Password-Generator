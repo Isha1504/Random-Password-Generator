{
 "cells": [
  {
   "cell_type": "code",
   "execution_count": 1,
   "metadata": {},
   "outputs": [],
   "source": [
    "import random \n",
    "from tkinter import *\n",
    "from tkinter import ttk"
   ]
  },
  {
   "cell_type": "code",
   "execution_count": 2,
   "metadata": {},
   "outputs": [],
   "source": [
    "def pass_gen1():\n",
    "    entry.delete(0,END)\n",
    "    length=var1.get()\n",
    "    level=var.get()\n",
    "    password=[]\n",
    "    lower_case=\"abcdefghijklmnopqrstuvwxyz\"\n",
    "    upper_case=\"ABCDEFGHIJKLMNOPQRSTUVWXYZ\"\n",
    "    digits=\"0123456789\"\n",
    "    characters=\"[@_!#$%^&*()<>?/\\|}{~:]\"\n",
    "    if(level==0):\n",
    "        if(length==0):\n",
    "            return None\n",
    "        else:\n",
    "            upper=2\n",
    "            digit=2\n",
    "            for i in range(length-4):\n",
    "                password.append(random.choice(lower_case))\n",
    "            for i in range(2):\n",
    "                password.append(random.choice(upper_case))\n",
    "                password.append(random.choice(digits))\n",
    "            random.shuffle(password)\n",
    "            fpassword=''.join(password)\n",
    "            return fpassword\n",
    "    elif(level==1):\n",
    "        if(length==0):\n",
    "            return None\n",
    "        else:\n",
    "            upper=2\n",
    "            digit=2\n",
    "            special=2\n",
    "            for i in range(length-6):\n",
    "                password.append(random.choice(lower_case))\n",
    "            for i in range(2):\n",
    "                password.append(random.choice(upper_case))\n",
    "                password.append(random.choice(digits))\n",
    "                password.append(random.choice(characters))\n",
    "            random.shuffle(password)\n",
    "            fpassword=''.join(password)\n",
    "            return fpassword\n",
    "    elif(level==2):\n",
    "        if(length==0):\n",
    "            return None\n",
    "        else:\n",
    "            upper=4\n",
    "            digit=4\n",
    "            special=2\n",
    "            for i in range(length-10):\n",
    "                password.append(random.choice(lower_case))\n",
    "            for i in range(4):\n",
    "                password.append(random.choice(upper_case))\n",
    "                password.append(random.choice(digits))\n",
    "            password.append(random.choice(characters))\n",
    "            password.append(random.choice(characters))\n",
    "            random.shuffle(password)\n",
    "            fpassword=''.join(password)\n",
    "            return fpassword\n",
    "    print(\"Please pick an option\")\n",
    "        "
   ]
  },
  {
   "cell_type": "code",
   "execution_count": 3,
   "metadata": {},
   "outputs": [],
   "source": [
    "def password_gen():\n",
    "    final_password=pass_gen1()\n",
    "    entry.insert(0,final_password)"
   ]
  },
  {
   "cell_type": "code",
   "execution_count": 4,
   "metadata": {},
   "outputs": [],
   "source": [
    "def copy_pass():\n",
    "    password_displayed=entry.get()\n",
    "    wind.clipboard_clear()\n",
    "    wind.clipboard_append(password_displayed)"
   ]
  },
  {
   "cell_type": "code",
   "execution_count": 5,
   "metadata": {},
   "outputs": [],
   "source": [
    "wind=Tk()\n",
    "var = IntVar() \n",
    "var1 = IntVar() \n",
    "wind.geometry(\"500x300\")\n",
    "wind.title(\"Random Password Generator!\")\n",
    "wind.configure(bg='Black')\n",
    "\n",
    "til=Label(wind,justify=CENTER,text=\"Random Password Generator!\",background=\"Black\",fg=\"lightGray\",width=50) \n",
    "til.place(x=-60,y=2)\n",
    "til.config(font=(\"Courier\", 15,\"bold\"))\n",
    "\n",
    "pwd=Label(wind,text=\"Password Generated : \",background = \"Black\",fg=\"light blue\") \n",
    "pwd.place(x=60,y=35) \n",
    "pwd.config(font=(\"Courier\", 11,\"bold\"))\n",
    "entry=Entry(wind,bg=\"yellow\",bd=4,justify=CENTER,width=30) \n",
    "entry.place(x=250,y=35)\n",
    "\n",
    "lgt=Label(wind,text=\"Length : \",background = \"Black\",fg=\"light blue\") \n",
    "lgt.place(x=105,y=75)\n",
    "lgt.config(font=(\"Courier\", 11,\"bold\"))\n",
    "\n",
    "low = Radiobutton(wind, text=\"Low\",variable=var,value=0,activebackground='light green',background = \"light blue\") \n",
    "low.place(x=180,y=105)\n",
    "middle = Radiobutton(wind, text=\"Medium\", variable=var,value=1,activebackground='light green',background = \"light blue\") \n",
    "middle.place(x=250,y=105) \n",
    "strong = Radiobutton(wind, text=\"Strong\",value=2,variable=var,activebackground='light green',background = \"light blue\") \n",
    "strong.place(x=330,y=105)\n",
    "\n",
    "cpy=Button(wind,text=\"Copy Password!\",activebackground=\"red\",background = \"cyan\",command=copy_pass) \n",
    "cpy.place(x=210,y=170) \n",
    "gen=Button(wind, text=\"Generate Password!\",activebackground=\"red\",background = \"cyan\",command=password_gen) \n",
    "gen.place(x=200,y=140)\n",
    "\n",
    "combo = ttk.Combobox(wind,textvariable=var1)\n",
    "combo['values'] = (0,\"Weak\",8, 9, 10, 11, 12, 13, 14, 15,\"Intermediate\",16,17, 18, 19, 20, 21, 22, 23, 24, 25,26, 27, 28, 29,\"Strong\",30, 31, 32) \n",
    "combo.current(0)\n",
    "combo.place(x=190,y=75)\n",
    "combo.config(font=(\"Courier\", 10,\"bold\"))\n",
    "wind.mainloop() "
   ]
  },
  {
   "cell_type": "code",
   "execution_count": null,
   "metadata": {},
   "outputs": [],
   "source": []
  },
  {
   "cell_type": "code",
   "execution_count": null,
   "metadata": {},
   "outputs": [],
   "source": []
  }
 ],
 "metadata": {
  "kernelspec": {
   "display_name": "Python 3",
   "language": "python",
   "name": "python3"
  },
  "language_info": {
   "codemirror_mode": {
    "name": "ipython",
    "version": 3
   },
   "file_extension": ".py",
   "mimetype": "text/x-python",
   "name": "python",
   "nbconvert_exporter": "python",
   "pygments_lexer": "ipython3",
   "version": "3.7.4"
  }
 },
 "nbformat": 4,
 "nbformat_minor": 2
}
